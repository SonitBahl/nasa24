{
 "cells": [
  {
   "cell_type": "code",
   "execution_count": 1,
   "id": "44c90a5b",
   "metadata": {},
   "outputs": [
    {
     "ename": "ModuleNotFoundError",
     "evalue": "No module named 'pandas'",
     "output_type": "error",
     "traceback": [
      "\u001b[1;31m---------------------------------------------------------------------------\u001b[0m",
      "\u001b[1;31mModuleNotFoundError\u001b[0m                       Traceback (most recent call last)",
      "Cell \u001b[1;32mIn[1], line 1\u001b[0m\n\u001b[1;32m----> 1\u001b[0m \u001b[38;5;28;01mimport\u001b[39;00m \u001b[38;5;21;01mpandas\u001b[39;00m \u001b[38;5;28;01mas\u001b[39;00m \u001b[38;5;21;01mpd\u001b[39;00m\n\u001b[0;32m      2\u001b[0m \u001b[38;5;28;01mimport\u001b[39;00m \u001b[38;5;21;01mnumpy\u001b[39;00m \u001b[38;5;28;01mas\u001b[39;00m \u001b[38;5;21;01mnp\u001b[39;00m\n\u001b[0;32m      3\u001b[0m \u001b[38;5;28;01mimport\u001b[39;00m \u001b[38;5;21;01mmatplotlib\u001b[39;00m\u001b[38;5;21;01m.\u001b[39;00m\u001b[38;5;21;01mpyplot\u001b[39;00m \u001b[38;5;28;01mas\u001b[39;00m \u001b[38;5;21;01mplt\u001b[39;00m\n",
      "\u001b[1;31mModuleNotFoundError\u001b[0m: No module named 'pandas'"
     ]
    }
   ],
   "source": [
    "import pandas as pd\n",
    "import numpy as np\n",
    "import matplotlib.pyplot as plt\n"
   ]
  },
  {
   "cell_type": "code",
   "execution_count": null,
   "id": "921e0eec",
   "metadata": {},
   "outputs": [],
   "source": [
    "df = pd.read_csv('Crop_recommendation.csv')\n",
    "df.head()"
   ]
  },
  {
   "cell_type": "code",
   "execution_count": null,
   "id": "651d3622",
   "metadata": {
    "scrolled": true
   },
   "outputs": [],
   "source": [
    "df.info()"
   ]
  },
  {
   "cell_type": "code",
   "execution_count": 4,
   "id": "2f675a2a",
   "metadata": {},
   "outputs": [],
   "source": [
    "if df['N'].all()>90:\n",
    "    print(df['N'])"
   ]
  },
  {
   "cell_type": "code",
   "execution_count": null,
   "id": "990093ae",
   "metadata": {
    "scrolled": true
   },
   "outputs": [],
   "source": [
    "df.isnull().sum()"
   ]
  },
  {
   "cell_type": "code",
   "execution_count": 6,
   "id": "15a10098",
   "metadata": {},
   "outputs": [],
   "source": [
    "x = df.drop('label', axis = 1)\n",
    "y = df['label']"
   ]
  },
  {
   "cell_type": "code",
   "execution_count": 7,
   "id": "e76f7cd4",
   "metadata": {},
   "outputs": [],
   "source": [
    "from sklearn.model_selection import train_test_split\n",
    "x_train, x_test, y_train, y_test = train_test_split(x,y, stratify = y, random_state = 1)"
   ]
  },
  {
   "cell_type": "code",
   "execution_count": null,
   "id": "b2381ba6",
   "metadata": {
    "scrolled": true
   },
   "outputs": [],
   "source": [
    "from sklearn.linear_model import LogisticRegression\n",
    "model = LogisticRegression()\n",
    "model.fit(x_train, y_train)\n",
    "y_pred = model.predict(x_test)\n",
    "from sklearn.metrics import accuracy_score\n",
    "logistic_acc = accuracy_score(y_test, y_pred)\n",
    "print(\"Accuracy of logistic regression is \" + str(logistic_acc))"
   ]
  },
  {
   "cell_type": "code",
   "execution_count": null,
   "id": "0ac65c3d",
   "metadata": {},
   "outputs": [],
   "source": [
    "from sklearn.tree import DecisionTreeClassifier\n",
    "model_2 = DecisionTreeClassifier(criterion='entropy',max_depth = 6, random_state = 2)\n",
    "model_2.fit(x_train, y_train)\n",
    "y_pred_2 = model_2.predict(x_test)\n",
    "decision_acc = accuracy_score(y_test, y_pred_2)\n",
    "print(\"Accuracy of decision  tree is \" + str(decision_acc))"
   ]
  },
  {
   "cell_type": "code",
   "execution_count": null,
   "id": "e9da8253",
   "metadata": {},
   "outputs": [],
   "source": [
    "from sklearn.naive_bayes import GaussianNB\n",
    "model_3 = GaussianNB()\n",
    "model_3.fit(x_train, y_train)\n",
    "y_pred_3 = model_3.predict(x_test)\n",
    "naive_bayes_acc = accuracy_score(y_test, y_pred_3)\n",
    "print(\"Accuracy of naive_bayes is \" + str(naive_bayes_acc))"
   ]
  },
  {
   "cell_type": "code",
   "execution_count": null,
   "id": "daf40cdf",
   "metadata": {},
   "outputs": [],
   "source": [
    "from sklearn.ensemble import RandomForestClassifier\n",
    "model_4 = RandomForestClassifier(n_estimators = 25, random_state=2)\n",
    "model_4.fit(x_train.values, y_train.values)\n",
    "y_pred_4 = model_4.predict(x_test)\n",
    "random_fore_acc = accuracy_score(y_test, y_pred_4)\n",
    "print(\"Accuracy of Random Forest is \" + str(random_fore_acc))\n"
   ]
  },
  {
   "cell_type": "code",
   "execution_count": 12,
   "id": "e9a33d0d",
   "metadata": {},
   "outputs": [],
   "source": [
    "import joblib "
   ]
  },
  {
   "cell_type": "code",
   "execution_count": 13,
   "id": "7966938b",
   "metadata": {},
   "outputs": [],
   "source": [
    "file_name = 'crop_app'"
   ]
  },
  {
   "cell_type": "code",
   "execution_count": null,
   "id": "61e16310",
   "metadata": {},
   "outputs": [],
   "source": [
    "joblib.dump(model_4,'crop_app')"
   ]
  },
  {
   "cell_type": "code",
   "execution_count": 15,
   "id": "75eb4ab2",
   "metadata": {},
   "outputs": [],
   "source": [
    "app = joblib.load('crop_app')"
   ]
  },
  {
   "cell_type": "code",
   "execution_count": 16,
   "id": "6a280749",
   "metadata": {},
   "outputs": [],
   "source": [
    "arr = [[90,42,43,20.879744,82.002744,6.502985,202.935536]]\n",
    "acc = app.predict(arr)"
   ]
  },
  {
   "cell_type": "code",
   "execution_count": null,
   "id": "5fe29cb6",
   "metadata": {},
   "outputs": [],
   "source": [
    "acc"
   ]
  },
  {
   "cell_type": "code",
   "execution_count": 18,
   "id": "7c9902c6",
   "metadata": {},
   "outputs": [],
   "source": [
    "import pickle"
   ]
  },
  {
   "cell_type": "code",
   "execution_count": 19,
   "id": "38e6d520",
   "metadata": {},
   "outputs": [],
   "source": [
    "Pkl_Filename = \"Pickle_RL_Model.pkl\"  \n",
    "\n",
    "with open(Pkl_Filename, 'wb') as file:  \n",
    "    pickle.dump(model_4, file)"
   ]
  },
  {
   "cell_type": "code",
   "execution_count": null,
   "id": "778b70c1",
   "metadata": {},
   "outputs": [],
   "source": [
    "with open(Pkl_Filename, 'rb') as file:  \n",
    "    Pickled_Model = pickle.load(file)\n",
    "\n",
    "Pickled_Model"
   ]
  },
  {
   "cell_type": "code",
   "execution_count": null,
   "id": "546b6dd8",
   "metadata": {},
   "outputs": [],
   "source": [
    "print(\"Accuracy of logistic regression is \" + str(logistic_acc))\n",
    "print(\"Accuracy of decision  tree is \" + str(decision_acc))\n",
    "print(\"Accuracy of naive_bayes is \" + str(naive_bayes_acc))\n",
    "print(\"Accuracy of Random Forest is \" + str(random_fore_acc))"
   ]
  },
  {
   "cell_type": "code",
   "execution_count": null,
   "id": "07c6823b",
   "metadata": {},
   "outputs": [],
   "source": []
  }
 ],
 "metadata": {
  "kernelspec": {
   "display_name": "Python 3 (ipykernel)",
   "language": "python",
   "name": "python3"
  },
  "language_info": {
   "codemirror_mode": {
    "name": "ipython",
    "version": 3
   },
   "file_extension": ".py",
   "mimetype": "text/x-python",
   "name": "python",
   "nbconvert_exporter": "python",
   "pygments_lexer": "ipython3",
   "version": "3.12.6"
  }
 },
 "nbformat": 4,
 "nbformat_minor": 5
}
